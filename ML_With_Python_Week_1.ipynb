{
  "nbformat": 4,
  "nbformat_minor": 0,
  "metadata": {
    "colab": {
      "name": "ML_With_Python_Week_1.ipynb",
      "provenance": [],
      "authorship_tag": "ABX9TyPY7Daz27u6XDnXRSWNZg/g",
      "include_colab_link": true
    },
    "kernelspec": {
      "name": "python3",
      "display_name": "Python 3"
    }
  },
  "cells": [
    {
      "cell_type": "markdown",
      "metadata": {
        "id": "view-in-github",
        "colab_type": "text"
      },
      "source": [
        "<a href=\"https://colab.research.google.com/github/vijaygenius123/ML_With_Python_Week_1/blob/master/ML_With_Python_Week_1.ipynb\" target=\"_parent\"><img src=\"https://colab.research.google.com/assets/colab-badge.svg\" alt=\"Open In Colab\"/></a>"
      ]
    },
    {
      "cell_type": "markdown",
      "metadata": {
        "id": "itNfGn3MxcYb",
        "colab_type": "text"
      },
      "source": [
        "# What We Will Cover\n",
        "\n",
        "- IMQAV - 5 Mins\n",
        "- How To Use Notebooks - 10 Mins\n",
        "- Numpy Basics - 30 Mins"
      ]
    },
    {
      "cell_type": "markdown",
      "metadata": {
        "id": "yXYvxk7n0rEx",
        "colab_type": "text"
      },
      "source": [
        "# IMQAV\n",
        "\n",
        "- Ingest\n",
        "- Model\n",
        "- Query\n",
        "- Analyze\n",
        "- Visualize"
      ]
    },
    {
      "cell_type": "markdown",
      "metadata": {
        "id": "i6rRtU-YxtBR",
        "colab_type": "text"
      },
      "source": [
        "## Ingest\n",
        "\n",
        "- Kafka \n",
        "- RabbitMQ\n",
        "- FluentD\n",
        "- Sqoop\n",
        "- Kinesis"
      ]
    },
    {
      "cell_type": "markdown",
      "metadata": {
        "id": "n07URKtWx3CV",
        "colab_type": "text"
      },
      "source": [
        "## Model\n",
        "\n",
        "- Relational \n",
        "  - MySQL\n",
        "  - Postgres\n",
        "  - RDS\n",
        "- Key Value\n",
        "  - Redis\n",
        "  - Riak\n",
        "  - DynamoDB\n",
        "- Columnar\n",
        " - Cassandra\n",
        " - HBase\n",
        " - Redshift\n",
        "- Document\n",
        "  - MongoDB\n",
        "  - Elasticsearch\n",
        "  - Couchbase\n",
        "- Graph\n",
        "  - Neo4j\n",
        "  - OrientDB\n",
        "  - ArangoDB\n",
        "  "
      ]
    },
    {
      "cell_type": "markdown",
      "metadata": {
        "id": "II5R_vqQyjYx",
        "colab_type": "text"
      },
      "source": [
        "## Query\n",
        "\n",
        "- Batch\n",
        "  - MapReduce\n",
        "  - Spark\n",
        "  - Elastic MapReduce\n",
        "- Batch SQL\n",
        "  - Hive\n",
        "  - Presto\n",
        "  - Drill\n",
        "- Streaming\n",
        "  - Storm\n",
        "  - Spark Streaming\n",
        "  - Samza\n"
      ]
    },
    {
      "cell_type": "markdown",
      "metadata": {
        "id": "YFZ59Z4R0oJB",
        "colab_type": "text"
      },
      "source": [
        "## Analyze\n",
        "\n",
        "- Statistics \n",
        " - SPSS\n",
        " - SAS\n",
        " - R\n",
        " - Statsmodels\n",
        " - SciPy\n",
        " - Pandas \n",
        "- Machine Learning\n",
        " - H2O\n",
        " - Mahout\n",
        " - SparkML\n",
        "- Interactive\n",
        " - scikit-learn\n",
        "\n",
        " \n"
      ]
    },
    {
      "cell_type": "markdown",
      "metadata": {
        "id": "QmsPMd6W4C0g",
        "colab_type": "text"
      },
      "source": [
        "## Visualize\n",
        " \n",
        " - matplotlib\n",
        " - seaborn\n",
        " - bokeh\n",
        " - pandas\n",
        " - D3\n",
        " - Tableau\n",
        " - LeafLet\n",
        " - Highcharts\n",
        " - Kibana\n",
        "\n"
      ]
    },
    {
      "cell_type": "code",
      "metadata": {
        "id": "5FFE0Tvvw8KX",
        "colab_type": "code",
        "colab": {}
      },
      "source": [
        ""
      ],
      "execution_count": null,
      "outputs": []
    }
  ]
}