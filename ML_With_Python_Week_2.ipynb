{
  "nbformat": 4,
  "nbformat_minor": 0,
  "metadata": {
    "colab": {
      "name": "ML_With_Python_Week_2.ipynb",
      "provenance": [],
      "collapsed_sections": [],
      "authorship_tag": "ABX9TyOzxJ7UanIgTN26wxyIycqI",
      "include_colab_link": true
    },
    "kernelspec": {
      "name": "python3",
      "display_name": "Python 3"
    }
  },
  "cells": [
    {
      "cell_type": "markdown",
      "metadata": {
        "id": "view-in-github",
        "colab_type": "text"
      },
      "source": [
        "<a href=\"https://colab.research.google.com/github/vijaygenius123/ML_With_Python_Week_1/blob/master/ML_With_Python_Week_2.ipynb\" target=\"_parent\"><img src=\"https://colab.research.google.com/assets/colab-badge.svg\" alt=\"Open In Colab\"/></a>"
      ]
    },
    {
      "cell_type": "markdown",
      "metadata": {
        "id": "itNfGn3MxcYb",
        "colab_type": "text"
      },
      "source": [
        "# What We Will Cover\n",
        "\n",
        "- Numpy Overview - 5 Mins\n",
        "- Types Of Charts - 5 Mins\n",
        "- Matplotlib - 10 Mins\n",
        "- Dataframe & Pandas - 10 Mins"
      ]
    },
    {
      "cell_type": "markdown",
      "metadata": {
        "id": "D-M9mR5cidQG",
        "colab_type": "text"
      },
      "source": [
        "Types Of Charts Usually\n",
        "- Line, Histogram\n",
        "  - x\n",
        "  - y\n",
        "- Pie\n",
        "  - x\n",
        "- Bar\n",
        "  - y\n",
        "  - labels"
      ]
    },
    {
      "cell_type": "code",
      "metadata": {
        "id": "XbjFgtlucKUG",
        "colab_type": "code",
        "colab": {}
      },
      "source": [
        "%matplotlib inline\n",
        "from matplotlib import pyplot as plt\n",
        "import numpy as np"
      ],
      "execution_count": 222,
      "outputs": []
    },
    {
      "cell_type": "markdown",
      "metadata": {
        "id": "gYfiJjoImRuZ",
        "colab_type": "text"
      },
      "source": [
        "# Line Charts"
      ]
    },
    {
      "cell_type": "code",
      "metadata": {
        "id": "czopjRH8gbsE",
        "colab_type": "code",
        "colab": {
          "base_uri": "https://localhost:8080/",
          "height": 312
        },
        "outputId": "d7210063-e783-4a69-a1dd-d46be36d5a75"
      },
      "source": [
        "x = [1,2,3,4]\n",
        "y = [1,4,9,16]\n",
        "z = [1,8,27,64]\n",
        "plt.plot(x,y,color='#f0f',marker='d',solid_capstyle='butt')\n",
        "plt.plot(x,z,'g+--')\n",
        "plt.title('Numbers')\n",
        "plt.xlabel('X')\n",
        "plt.ylabel('Y')\n",
        "plt.legend(['Squares','Cubes'])"
      ],
      "execution_count": 217,
      "outputs": [
        {
          "output_type": "execute_result",
          "data": {
            "text/plain": [
              "<matplotlib.legend.Legend at 0x7f7945341400>"
            ]
          },
          "metadata": {
            "tags": []
          },
          "execution_count": 217
        },
        {
          "output_type": "display_data",
          "data": {
            "image/png": "[encoded data removed]",
            "text/plain": [
              "<Figure size 432x288 with 1 Axes>"
            ]
          },
          "metadata": {
            "tags": [],
            "needs_background": "light"
          }
        }
      ]
    },
    {
      "cell_type": "markdown",
      "metadata": {
        "id": "oeZvW0jxlF62",
        "colab_type": "text"
      },
      "source": [
        "## Pie"
      ]
    },
    {
      "cell_type": "code",
      "metadata": {
        "id": "ILEwW4tAgvAb",
        "colab_type": "code",
        "colab": {
          "base_uri": "https://localhost:8080/",
          "height": 401
        },
        "outputId": "75230340-fdd8-4a63-d73d-f76d47fd80fa"
      },
      "source": [
        "x = [100,50,75]\n",
        "labels = [\"HTML/CSS\",\"Python\",\"Javascript\"]\n",
        "plt.pie(x,labels=labels,colors=['green','red','orange'],autopct=\"%d%%\",radius=1)"
      ],
      "execution_count": 216,
      "outputs": [
        {
          "output_type": "execute_result",
          "data": {
            "text/plain": [
              "([<matplotlib.patches.Wedge at 0x7f794538ab70>,\n",
              "  <matplotlib.patches.Wedge at 0x7f7945318358>,\n",
              "  <matplotlib.patches.Wedge at 0x7f7945318ac8>],\n",
              " [Text(0.19101298416420226, 1.083288530300532, 'HTML/CSS'),\n",
              "  Text(-1.0336618730799265, -0.3762221845411272, 'Python'),\n",
              "  Text(0.5500000594609757, -0.9526279098330698, 'Javascript')],\n",
              " [Text(0.10418890045320121, 0.5908846528911992, '44%'),\n",
              "  Text(-0.5638155671345053, -0.20521210065879666, '22%'),\n",
              "  Text(0.30000003243325946, -0.5196152235453108, '33%')])"
            ]
          },
          "metadata": {
            "tags": []
          },
          "execution_count": 216
        },
        {
          "output_type": "display_data",
          "data": {
            "image/png": "[encoded data removed]",
            "text/plain": [
              "<Figure size 432x288 with 1 Axes>"
            ]
          },
          "metadata": {
            "tags": []
          }
        }
      ]
    },
    {
      "cell_type": "markdown",
      "metadata": {
        "id": "ojBQlvuHqkF0",
        "colab_type": "text"
      },
      "source": [
        "# Bar Charts"
      ]
    },
    {
      "cell_type": "code",
      "metadata": {
        "id": "HIMkjKHko1it",
        "colab_type": "code",
        "colab": {
          "base_uri": "https://localhost:8080/",
          "height": 282
        },
        "outputId": "55374c50-5f42-44b8-f2be-b794dee4df54"
      },
      "source": [
        "x = ['Jan','Feb','March','April']\n",
        "h = [10,20,30,40]\n",
        "plt.bar(x,h,color='green')"
      ],
      "execution_count": 218,
      "outputs": [
        {
          "output_type": "execute_result",
          "data": {
            "text/plain": [
              "<BarContainer object of 4 artists>"
            ]
          },
          "metadata": {
            "tags": []
          },
          "execution_count": 218
        },
        {
          "output_type": "display_data",
          "data": {
            "image/png": "[encoded data removed]",
            "text/plain": [
              "<Figure size 432x288 with 1 Axes>"
            ]
          },
          "metadata": {
            "tags": [],
            "needs_background": "light"
          }
        }
      ]
    },
    {
      "cell_type": "markdown",
      "metadata": {
        "id": "FH3jPkoIqno4",
        "colab_type": "text"
      },
      "source": [
        "## Histogram"
      ]
    },
    {
      "cell_type": "code",
      "metadata": {
        "id": "8ndFF7aUqrZE",
        "colab_type": "code",
        "colab": {
          "base_uri": "https://localhost:8080/",
          "height": 316
        },
        "outputId": "734b6a63-7bc3-4273-906f-c28272b199e9"
      },
      "source": [
        "x = np.arange(100)\n",
        "plt.hist(x,bins=[0,20,50,100,150])"
      ],
      "execution_count": 227,
      "outputs": [
        {
          "output_type": "execute_result",
          "data": {
            "text/plain": [
              "(array([20., 30., 50.,  0.]),\n",
              " array([  0,  20,  50, 100, 150]),\n",
              " <a list of 4 Patch objects>)"
            ]
          },
          "metadata": {
            "tags": []
          },
          "execution_count": 227
        },
        {
          "output_type": "display_data",
          "data": {
            "image/png": "[encoded data removed]",
            "text/plain": [
              "<Figure size 432x288 with 1 Axes>"
            ]
          },
          "metadata": {
            "tags": [],
            "needs_background": "light"
          }
        }
      ]
    },
    {
      "cell_type": "code",
      "metadata": {
        "id": "yDgb88-6qstF",
        "colab_type": "code",
        "colab": {}
      },
      "source": [
        "import pandas as pd"
      ],
      "execution_count": 229,
      "outputs": []
    },
    {
      "cell_type": "code",
      "metadata": {
        "id": "2y5tiTh5sx76",
        "colab_type": "code",
        "colab": {}
      },
      "source": [
        "df = pd.read_csv('https://population.un.org/wpp/Download/Files/1_Indicators%20(Standard)/CSV_FILES/WPP2019_TotalPopulationBySex.csv')"
      ],
      "execution_count": 230,
      "outputs": []
    },
    {
      "cell_type": "code",
      "metadata": {
        "id": "s6INu1PwtVQM",
        "colab_type": "code",
        "colab": {
          "base_uri": "https://localhost:8080/",
          "height": 204
        },
        "outputId": "b97729c3-0ed5-4be1-8626-954bcad0c72e"
      },
      "source": [
        "df.head()"
      ],
      "execution_count": 231,
      "outputs": [
        {
          "output_type": "execute_result",
          "data": {
            "text/html": [
              "<div>\n",
              "<style scoped>\n",
              "    .dataframe tbody tr th:only-of-type {\n",
              "        vertical-align: middle;\n",
              "    }\n",
              "\n",
              "    .dataframe tbody tr th {\n",
              "        vertical-align: top;\n",
              "    }\n",
              "\n",
              "    .dataframe thead th {\n",
              "        text-align: right;\n",
              "    }\n",
              "</style>\n",
              "<table border=\"1\" class=\"dataframe\">\n",
              "  <thead>\n",
              "    <tr style=\"text-align: right;\">\n",
              "      <th></th>\n",
              "      <th>LocID</th>\n",
              "      <th>Location</th>\n",
              "      <th>VarID</th>\n",
              "      <th>Variant</th>\n",
              "      <th>Time</th>\n",
              "      <th>MidPeriod</th>\n",
              "      <th>PopMale</th>\n",
              "      <th>PopFemale</th>\n",
              "      <th>PopTotal</th>\n",
              "      <th>PopDensity</th>\n",
              "    </tr>\n",
              "  </thead>\n",
              "  <tbody>\n",
              "    <tr>\n",
              "      <th>0</th>\n",
              "      <td>4</td>\n",
              "      <td>Afghanistan</td>\n",
              "      <td>2</td>\n",
              "      <td>Medium</td>\n",
              "      <td>1950</td>\n",
              "      <td>1950.5</td>\n",
              "      <td>4099.243</td>\n",
              "      <td>3652.874</td>\n",
              "      <td>7752.117</td>\n",
              "      <td>11.874</td>\n",
              "    </tr>\n",
              "    <tr>\n",
              "      <th>1</th>\n",
              "      <td>4</td>\n",
              "      <td>Afghanistan</td>\n",
              "      <td>2</td>\n",
              "      <td>Medium</td>\n",
              "      <td>1951</td>\n",
              "      <td>1951.5</td>\n",
              "      <td>4134.756</td>\n",
              "      <td>3705.395</td>\n",
              "      <td>7840.151</td>\n",
              "      <td>12.009</td>\n",
              "    </tr>\n",
              "    <tr>\n",
              "      <th>2</th>\n",
              "      <td>4</td>\n",
              "      <td>Afghanistan</td>\n",
              "      <td>2</td>\n",
              "      <td>Medium</td>\n",
              "      <td>1952</td>\n",
              "      <td>1952.5</td>\n",
              "      <td>4174.450</td>\n",
              "      <td>3761.546</td>\n",
              "      <td>7935.996</td>\n",
              "      <td>12.156</td>\n",
              "    </tr>\n",
              "    <tr>\n",
              "      <th>3</th>\n",
              "      <td>4</td>\n",
              "      <td>Afghanistan</td>\n",
              "      <td>2</td>\n",
              "      <td>Medium</td>\n",
              "      <td>1953</td>\n",
              "      <td>1953.5</td>\n",
              "      <td>4218.336</td>\n",
              "      <td>3821.348</td>\n",
              "      <td>8039.684</td>\n",
              "      <td>12.315</td>\n",
              "    </tr>\n",
              "    <tr>\n",
              "      <th>4</th>\n",
              "      <td>4</td>\n",
              "      <td>Afghanistan</td>\n",
              "      <td>2</td>\n",
              "      <td>Medium</td>\n",
              "      <td>1954</td>\n",
              "      <td>1954.5</td>\n",
              "      <td>4266.484</td>\n",
              "      <td>3884.832</td>\n",
              "      <td>8151.316</td>\n",
              "      <td>12.486</td>\n",
              "    </tr>\n",
              "  </tbody>\n",
              "</table>\n",
              "</div>"
            ],
            "text/plain": [
              "   LocID     Location  VarID Variant  ...   PopMale  PopFemale  PopTotal  PopDensity\n",
              "0      4  Afghanistan      2  Medium  ...  4099.243   3652.874  7752.117      11.874\n",
              "1      4  Afghanistan      2  Medium  ...  4134.756   3705.395  7840.151      12.009\n",
              "2      4  Afghanistan      2  Medium  ...  4174.450   3761.546  7935.996      12.156\n",
              "3      4  Afghanistan      2  Medium  ...  4218.336   3821.348  8039.684      12.315\n",
              "4      4  Afghanistan      2  Medium  ...  4266.484   3884.832  8151.316      12.486\n",
              "\n",
              "[5 rows x 10 columns]"
            ]
          },
          "metadata": {
            "tags": []
          },
          "execution_count": 231
        }
      ]
    },
    {
      "cell_type": "code",
      "metadata": {
        "id": "Yqt0rMu-tieI",
        "colab_type": "code",
        "colab": {}
      },
      "source": [
        "afg = df[(df['Location'] == 'Afghanistan') & (df['Variant']=='Medium')]"
      ],
      "execution_count": 233,
      "outputs": []
    },
    {
      "cell_type": "code",
      "metadata": {
        "id": "NxqV6vYStuLI",
        "colab_type": "code",
        "colab": {
          "base_uri": "https://localhost:8080/",
          "height": 204
        },
        "outputId": "cc50376d-14d5-468e-b555-496d1a471f42"
      },
      "source": [
        "afg.head()"
      ],
      "execution_count": 234,
      "outputs": [
        {
          "output_type": "execute_result",
          "data": {
            "text/html": [
              "<div>\n",
              "<style scoped>\n",
              "    .dataframe tbody tr th:only-of-type {\n",
              "        vertical-align: middle;\n",
              "    }\n",
              "\n",
              "    .dataframe tbody tr th {\n",
              "        vertical-align: top;\n",
              "    }\n",
              "\n",
              "    .dataframe thead th {\n",
              "        text-align: right;\n",
              "    }\n",
              "</style>\n",
              "<table border=\"1\" class=\"dataframe\">\n",
              "  <thead>\n",
              "    <tr style=\"text-align: right;\">\n",
              "      <th></th>\n",
              "      <th>LocID</th>\n",
              "      <th>Location</th>\n",
              "      <th>VarID</th>\n",
              "      <th>Variant</th>\n",
              "      <th>Time</th>\n",
              "      <th>MidPeriod</th>\n",
              "      <th>PopMale</th>\n",
              "      <th>PopFemale</th>\n",
              "      <th>PopTotal</th>\n",
              "      <th>PopDensity</th>\n",
              "    </tr>\n",
              "  </thead>\n",
              "  <tbody>\n",
              "    <tr>\n",
              "      <th>0</th>\n",
              "      <td>4</td>\n",
              "      <td>Afghanistan</td>\n",
              "      <td>2</td>\n",
              "      <td>Medium</td>\n",
              "      <td>1950</td>\n",
              "      <td>1950.5</td>\n",
              "      <td>4099.243</td>\n",
              "      <td>3652.874</td>\n",
              "      <td>7752.117</td>\n",
              "      <td>11.874</td>\n",
              "    </tr>\n",
              "    <tr>\n",
              "      <th>1</th>\n",
              "      <td>4</td>\n",
              "      <td>Afghanistan</td>\n",
              "      <td>2</td>\n",
              "      <td>Medium</td>\n",
              "      <td>1951</td>\n",
              "      <td>1951.5</td>\n",
              "      <td>4134.756</td>\n",
              "      <td>3705.395</td>\n",
              "      <td>7840.151</td>\n",
              "      <td>12.009</td>\n",
              "    </tr>\n",
              "    <tr>\n",
              "      <th>2</th>\n",
              "      <td>4</td>\n",
              "      <td>Afghanistan</td>\n",
              "      <td>2</td>\n",
              "      <td>Medium</td>\n",
              "      <td>1952</td>\n",
              "      <td>1952.5</td>\n",
              "      <td>4174.450</td>\n",
              "      <td>3761.546</td>\n",
              "      <td>7935.996</td>\n",
              "      <td>12.156</td>\n",
              "    </tr>\n",
              "    <tr>\n",
              "      <th>3</th>\n",
              "      <td>4</td>\n",
              "      <td>Afghanistan</td>\n",
              "      <td>2</td>\n",
              "      <td>Medium</td>\n",
              "      <td>1953</td>\n",
              "      <td>1953.5</td>\n",
              "      <td>4218.336</td>\n",
              "      <td>3821.348</td>\n",
              "      <td>8039.684</td>\n",
              "      <td>12.315</td>\n",
              "    </tr>\n",
              "    <tr>\n",
              "      <th>4</th>\n",
              "      <td>4</td>\n",
              "      <td>Afghanistan</td>\n",
              "      <td>2</td>\n",
              "      <td>Medium</td>\n",
              "      <td>1954</td>\n",
              "      <td>1954.5</td>\n",
              "      <td>4266.484</td>\n",
              "      <td>3884.832</td>\n",
              "      <td>8151.316</td>\n",
              "      <td>12.486</td>\n",
              "    </tr>\n",
              "  </tbody>\n",
              "</table>\n",
              "</div>"
            ],
            "text/plain": [
              "   LocID     Location  VarID Variant  ...   PopMale  PopFemale  PopTotal  PopDensity\n",
              "0      4  Afghanistan      2  Medium  ...  4099.243   3652.874  7752.117      11.874\n",
              "1      4  Afghanistan      2  Medium  ...  4134.756   3705.395  7840.151      12.009\n",
              "2      4  Afghanistan      2  Medium  ...  4174.450   3761.546  7935.996      12.156\n",
              "3      4  Afghanistan      2  Medium  ...  4218.336   3821.348  8039.684      12.315\n",
              "4      4  Afghanistan      2  Medium  ...  4266.484   3884.832  8151.316      12.486\n",
              "\n",
              "[5 rows x 10 columns]"
            ]
          },
          "metadata": {
            "tags": []
          },
          "execution_count": 234
        }
      ]
    },
    {
      "cell_type": "code",
      "metadata": {
        "id": "zREPayjRuECB",
        "colab_type": "code",
        "colab": {
          "base_uri": "https://localhost:8080/",
          "height": 285
        },
        "outputId": "61c7168c-abb0-44cd-fa1e-96b2e1782660"
      },
      "source": [
        "plt.plot(afg['Time'],afg['PopTotal'],'b-')"
      ],
      "execution_count": 237,
      "outputs": [
        {
          "output_type": "execute_result",
          "data": {
            "text/plain": [
              "[<matplotlib.lines.Line2D at 0x7f7944f55668>]"
            ]
          },
          "metadata": {
            "tags": []
          },
          "execution_count": 237
        },
        {
          "output_type": "display_data",
          "data": {
            "image/png": "[encoded data removed]",
            "text/plain": [
              "<Figure size 432x288 with 1 Axes>"
            ]
          },
          "metadata": {
            "tags": [],
            "needs_background": "light"
          }
        }
      ]
    }
  ]
}